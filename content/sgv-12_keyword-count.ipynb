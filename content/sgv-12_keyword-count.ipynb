{
 "cells": [
  {
   "cell_type": "code",
   "execution_count": 16,
   "metadata": {},
   "outputs": [],
   "source": [
    "import json\n",
    "import pandas as pd\n",
    "\n",
    "input_dir = \"./data/sgv-12_id-about.json\"\n"
   ]
  },
  {
   "cell_type": "code",
   "execution_count": 17,
   "metadata": {},
   "outputs": [
    {
     "name": "stdout",
     "output_type": "stream",
     "text": [
      "Available images with keywords: 22364\n",
      "      schema:identifier                      schema:about\n",
      "0         SGV_12N_07501             [Murbacherstrasse 31]\n",
      "1         SGV_12N_07502             [Murbacherstrasse 31]\n",
      "2         SGV_12N_07503             [Murbacherstrasse 31]\n",
      "3         SGV_12N_07773  [Valorisierung: Museum Burgrain]\n",
      "4         SGV_12N_07833                           [Suone]\n",
      "...                 ...                               ...\n",
      "22359     SGV_12N_24898                        [Friedhof]\n",
      "22360     SGV_12N_24899                        [Friedhof]\n",
      "22361     SGV_12N_24900                        [Friedhof]\n",
      "22362     SGV_12N_24971                        [Friedhof]\n",
      "22363     SGV_12N_24972                        [Friedhof]\n",
      "\n",
      "[22364 rows x 2 columns]\n"
     ]
    }
   ],
   "source": [
    "with open(input_dir, \"r\") as file:\n",
    "    data = json.load(file)  \n",
    "\n",
    "# Now you can work with the 'data' object\n",
    "print(\"Available images with keywords:\", len(data))\n",
    "\n",
    "# Convert the data to a pandas DataFrame\n",
    "df = pd.DataFrame(data)\n",
    "print(df)"
   ]
  }
 ],
 "metadata": {
  "kernelspec": {
   "display_name": "Python 3",
   "language": "python",
   "name": "python3"
  },
  "language_info": {
   "codemirror_mode": {
    "name": "ipython",
    "version": 3
   },
   "file_extension": ".py",
   "mimetype": "text/x-python",
   "name": "python",
   "nbconvert_exporter": "python",
   "pygments_lexer": "ipython3",
   "version": "3.11.5"
  }
 },
 "nbformat": 4,
 "nbformat_minor": 2
}
